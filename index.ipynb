{
 "cells": [
  {
   "cell_type": "markdown",
   "metadata": {},
   "source": [
    "# Grouping Data with SQL\n",
    "\n",
    "## Introduction\n",
    "\n",
    "In this section, you'll learn how to use aggregate functions in SQL.\n",
    "\n",
    "## Objectives\n",
    "\n",
    "You will be able to:\n",
    "\n",
    "* Write queries with aggregate functions like `COUNT`, `MAX`, `MIN`, and `SUM`\n",
    "* Create an alias for the return value of an aggregate function\n",
    "* Use `GROUP BY` to sort the data sets returned by aggregate functions\n",
    "* Compare aggregates using the `HAVING` clause"
   ]
  },
  {
   "cell_type": "code",
   "execution_count": null,
   "metadata": {},
   "outputs": [],
   "source": [
    "import sqlite3\n",
    "import pandas as pd"
   ]
  },
  {
   "cell_type": "markdown",
   "metadata": {},
   "source": [
    "## Database Schema\n",
    "<img src=\"Database-Schema.png\">"
   ]
  },
  {
   "cell_type": "markdown",
   "metadata": {},
   "source": [
    "## Connecting to the Database"
   ]
  },
  {
   "cell_type": "code",
   "execution_count": null,
   "metadata": {},
   "outputs": [],
   "source": [
    "conn = sqlite3.Connection('data.sqlite')\n",
    "cur = conn.cursor()"
   ]
  },
  {
   "cell_type": "markdown",
   "metadata": {},
   "source": [
    "## Groupby and Aggregate Functions\n",
    "\n",
    "Lets start by looking at some groupby statements to aggregate our data."
   ]
  },
  {
   "cell_type": "code",
   "execution_count": null,
   "metadata": {},
   "outputs": [],
   "source": [
    "#Here we join the offices and employees tables in order to count the number of employees per city.\n",
    "cur.execute(\"\"\"select city,\n",
    "                      count(employeeNumber)\n",
    "                      from offices\n",
    "                      join employees\n",
    "                      using(officeCode)\n",
    "                      group by city;\"\"\")\n",
    "pd.DataFrame(cur.fetchall())"
   ]
  },
  {
   "cell_type": "markdown",
   "metadata": {},
   "source": [
    "## Ordering and Aliasing\n",
    "We can also alias our groupby by specifying the number of our selection order that we want to group by. Additionally, we can also order or limit our selection with the order by and limit clauses."
   ]
  },
  {
   "cell_type": "code",
   "execution_count": null,
   "metadata": {},
   "outputs": [],
   "source": [
    "cur.execute(\"\"\"select city,\n",
    "                      count(employeeNumber)\n",
    "                      from offices\n",
    "                      join employees\n",
    "                      using(officeCode)\n",
    "                      group by 1\n",
    "                      order by count(employeeNumber) desc\n",
    "                      limit 5;\"\"\")\n",
    "pd.DataFrame(cur.fetchall())"
   ]
  },
  {
   "cell_type": "markdown",
   "metadata": {},
   "source": [
    "## Retrieving Column Names\n",
    "Recall that we can also retrieve our column names when using sqlite3 (note that this will be the default behavior in other environments such as sql workbench)"
   ]
  },
  {
   "cell_type": "code",
   "execution_count": null,
   "metadata": {},
   "outputs": [],
   "source": [
    "cur.execute(\"\"\"select city,\n",
    "                      count(employeeNumber)\n",
    "                      from offices\n",
    "                      join employees\n",
    "                      using(officeCode)\n",
    "                      group by 1\n",
    "                      order by count(employeeNumber) desc\n",
    "                      limit 5;\"\"\")\n",
    "df = pd.DataFrame(cur.fetchall())\n",
    "df. columns = [i[0] for i in cur.description]\n",
    "df.head()"
   ]
  },
  {
   "cell_type": "markdown",
   "metadata": {},
   "source": [
    "## Aliasing our Aggregate Function Name\n",
    "Now that we can view our column names, we can also practice using alias's to name our aggregations."
   ]
  },
  {
   "cell_type": "code",
   "execution_count": null,
   "metadata": {},
   "outputs": [],
   "source": [
    "cur.execute(\"\"\"select city,\n",
    "                      count(employeeNumber) as employeeCount\n",
    "                      from offices\n",
    "                      join employees\n",
    "                      using(officeCode)\n",
    "                      group by 1\n",
    "                      order by count(employeeNumber) desc\n",
    "                      limit 5;\"\"\")\n",
    "df = pd.DataFrame(cur.fetchall())\n",
    "df. columns = [i[0] for i in cur.description]\n",
    "df.head()"
   ]
  },
  {
   "cell_type": "markdown",
   "metadata": {},
   "source": [
    "## Other Aggregations\n",
    "\n",
    "Aside from count() some other useful aggregations include:\n",
    "    * min()\n",
    "    * max()\n",
    "    * sum()\n",
    "    * avg()"
   ]
  },
  {
   "cell_type": "code",
   "execution_count": null,
   "metadata": {},
   "outputs": [],
   "source": [
    "cur.execute(\"\"\"select customerName,\n",
    "                      count(*) as number_purchases,\n",
    "                      min(amount) as min_purchase,\n",
    "                      max(amount) as max_purchase,\n",
    "                      avg(amount) as avg_purchase,\n",
    "                      sum(amount) as total_spent\n",
    "                      from customers\n",
    "                      join payments\n",
    "                      using(customerNumber)\n",
    "                      group by customerName\n",
    "                      order by sum(amount) desc;\"\"\")\n",
    "df = pd.DataFrame(cur.fetchall())\n",
    "df. columns = [i[0] for i in cur.description]\n",
    "print(len(df))\n",
    "df.head()"
   ]
  },
  {
   "cell_type": "code",
   "execution_count": null,
   "metadata": {},
   "outputs": [],
   "source": [
    "df.tail()"
   ]
  },
  {
   "cell_type": "markdown",
   "metadata": {},
   "source": [
    "## The having clause\n",
    "\n",
    "Finally, we can also filter our aggregated views with the having clause. The having clause works like the where clause but is used to filter data selections on conditions post the group by. For example, if we wanted to filter based on a customer's last name, we would use the where clause. However, if we wanted to filter a list of city's with at least 5 customers, we would using the having clause; we would first groupby city and count the number of customers, and the having clause allows us to pass conditions on the result of this aggregation."
   ]
  },
  {
   "cell_type": "code",
   "execution_count": null,
   "metadata": {},
   "outputs": [],
   "source": [
    "cur.execute(\"\"\"select city,\n",
    "                      count(customerNumber) as number_customers\n",
    "                      from customers\n",
    "                      group by city\n",
    "                      having count(customerNumber)>=5;\"\"\")\n",
    "df = pd.DataFrame(cur.fetchall())\n",
    "df. columns = [i[0] for i in cur.description]\n",
    "print(len(df))\n",
    "df.head()"
   ]
  },
  {
   "cell_type": "markdown",
   "metadata": {},
   "source": [
    "## Combining the where and having clause\n",
    "We can also use the where and having clause in conjunction with each other for more complex rules.\n",
    "For example, let's say we want a list of customers who have made at least 3 purchases of over 50K each."
   ]
  },
  {
   "cell_type": "code",
   "execution_count": null,
   "metadata": {},
   "outputs": [],
   "source": [
    "cur.execute(\"\"\"select customerName,\n",
    "                      count(amount) as number_purchases_over_50K\n",
    "                      from customers\n",
    "                      join payments\n",
    "                      using(customerNumber)\n",
    "                      where amount >= 50000\n",
    "                      group by customerName \n",
    "                      having count(amount) >= 3\n",
    "                      order by count(amount) desc;\"\"\")\n",
    "df = pd.DataFrame(cur.fetchall())\n",
    "df. columns = [i[0] for i in cur.description]\n",
    "print(len(df))\n",
    "df.head()"
   ]
  },
  {
   "cell_type": "code",
   "execution_count": null,
   "metadata": {
    "scrolled": true
   },
   "outputs": [],
   "source": [
    "df.tail()"
   ]
  },
  {
   "cell_type": "markdown",
   "metadata": {},
   "source": [
    "## Summary\n",
    "\n",
    "After this section, you should have a good idea of how to use aggregate functions, aliases and the having clause to filter selections."
   ]
  }
 ],
 "metadata": {
  "kernelspec": {
   "display_name": "Python 3",
   "language": "python",
   "name": "python3"
  },
  "language_info": {
   "codemirror_mode": {
    "name": "ipython",
    "version": 3
   },
   "file_extension": ".py",
   "mimetype": "text/x-python",
   "name": "python",
   "nbconvert_exporter": "python",
   "pygments_lexer": "ipython3",
   "version": "3.6.6"
  }
 },
 "nbformat": 4,
 "nbformat_minor": 2
}
